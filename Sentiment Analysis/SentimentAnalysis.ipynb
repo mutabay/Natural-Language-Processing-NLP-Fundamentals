{
 "cells": [
  {
   "cell_type": "markdown",
   "source": [
    "# Sentiment Analysis For Turkish\n",
    "[Data Source](https://github.com/fthbrmnby/turkish-text-data)\n"
   ],
   "metadata": {
    "collapsed": false
   }
  },
  {
   "cell_type": "code",
   "execution_count": 1,
   "outputs": [
    {
     "data": {
      "text/plain": "                                                   review label\n204000  zamanında teslimat yapıldı, ayrıca ürün kalite...   pos\n204001  gerçekten harika bir ürün kargo da hemen 2 gün...   pos\n204002  fiyatına gore gayet güzel bir avize. taşları d...   pos\n204003  ürün mükemmel salona muhteşem oldu. şık bir ür...   pos\n204004  ürün beklediğim süreden daha kısa sürede elime...   pos\n...                                                   ...   ...\n219738  ürün çok hızlı ve hediye paketi içerisinde gel...   pos\n219739  ürün yanında göndermiş olduğunuz hediye çok in...   pos\n219740  hepsi burada tarihinde ilk defa yorum yapıyoru...   pos\n219741  çok güzel bir ürün mağazaya ve hepsiburadaya ç...   pos\n219742  bir erkek gözüyle söylüyorum burdan kankiiiiim...   pos\n\n[15743 rows x 2 columns]",
      "text/html": "<div>\n<style scoped>\n    .dataframe tbody tr th:only-of-type {\n        vertical-align: middle;\n    }\n\n    .dataframe tbody tr th {\n        vertical-align: top;\n    }\n\n    .dataframe thead th {\n        text-align: right;\n    }\n</style>\n<table border=\"1\" class=\"dataframe\">\n  <thead>\n    <tr style=\"text-align: right;\">\n      <th></th>\n      <th>review</th>\n      <th>label</th>\n    </tr>\n  </thead>\n  <tbody>\n    <tr>\n      <th>204000</th>\n      <td>zamanında teslimat yapıldı, ayrıca ürün kalite...</td>\n      <td>pos</td>\n    </tr>\n    <tr>\n      <th>204001</th>\n      <td>gerçekten harika bir ürün kargo da hemen 2 gün...</td>\n      <td>pos</td>\n    </tr>\n    <tr>\n      <th>204002</th>\n      <td>fiyatına gore gayet güzel bir avize. taşları d...</td>\n      <td>pos</td>\n    </tr>\n    <tr>\n      <th>204003</th>\n      <td>ürün mükemmel salona muhteşem oldu. şık bir ür...</td>\n      <td>pos</td>\n    </tr>\n    <tr>\n      <th>204004</th>\n      <td>ürün beklediğim süreden daha kısa sürede elime...</td>\n      <td>pos</td>\n    </tr>\n    <tr>\n      <th>...</th>\n      <td>...</td>\n      <td>...</td>\n    </tr>\n    <tr>\n      <th>219738</th>\n      <td>ürün çok hızlı ve hediye paketi içerisinde gel...</td>\n      <td>pos</td>\n    </tr>\n    <tr>\n      <th>219739</th>\n      <td>ürün yanında göndermiş olduğunuz hediye çok in...</td>\n      <td>pos</td>\n    </tr>\n    <tr>\n      <th>219740</th>\n      <td>hepsi burada tarihinde ilk defa yorum yapıyoru...</td>\n      <td>pos</td>\n    </tr>\n    <tr>\n      <th>219741</th>\n      <td>çok güzel bir ürün mağazaya ve hepsiburadaya ç...</td>\n      <td>pos</td>\n    </tr>\n    <tr>\n      <th>219742</th>\n      <td>bir erkek gözüyle söylüyorum burdan kankiiiiim...</td>\n      <td>pos</td>\n    </tr>\n  </tbody>\n</table>\n<p>15743 rows × 2 columns</p>\n</div>"
     },
     "execution_count": 1,
     "metadata": {},
     "output_type": "execute_result"
    }
   ],
   "source": [
    "import pandas as pd\n",
    "negative_data = pd.read_csv('reviews.neg', delimiter='\\t')\n",
    "positive_data = pd.read_csv('reviews.pos', delimiter='\\t')\n",
    "\n",
    "# Changing col names for concatting\n",
    "negative_data['label'] = 'neg'\n",
    "negative_data.rename(columns={'beklentimin altında bir ürün kaliteli değil': 'review'}, inplace=True)\n",
    "\n",
    "positive_data['label'] = 'pos'\n",
    "positive_data.rename(columns={'fena değil paraya göre iyi.': 'review'}, inplace=True)\n",
    "# deleting big amount of rows for balancing data frames.\n",
    "positive_data = positive_data.drop(index=range(0, 204000), axis=0)\n",
    "df = pd.concat([positive_data, negative_data])\n",
    "positive_data"
   ],
   "metadata": {
    "collapsed": false,
    "pycharm": {
     "name": "#%%\n"
    }
   }
  },
  {
   "cell_type": "code",
   "execution_count": 2,
   "metadata": {
    "collapsed": true
   },
   "outputs": [
    {
     "data": {
      "text/plain": "pos    15743\nneg    14878\nName: label, dtype: int64"
     },
     "execution_count": 2,
     "metadata": {},
     "output_type": "execute_result"
    }
   ],
   "source": [
    "# Shuffling data.\n",
    "df = df.sample(frac=1).reset_index(drop=True)\n",
    "df.head()\n",
    "df['label'].value_counts()"
   ]
  },
  {
   "cell_type": "markdown",
   "source": [
    "## Preprocessing"
   ],
   "metadata": {
    "collapsed": false
   }
  },
  {
   "cell_type": "code",
   "execution_count": 3,
   "outputs": [
    {
     "name": "stdout",
     "output_type": "stream",
     "text": [
      "!\"#$%&'()*+,-./:;<=>?@[\\]^_`{|}~\n",
      "['acaba', 'ama', 'aslında', 'az', 'bazı', 'belki', 'biri', 'birkaç', 'birşey', 'biz', 'bu', 'çok', 'çünkü', 'da', 'daha', 'de', 'defa', 'diye', 'eğer', 'en', 'gibi', 'hem', 'hep', 'hepsi', 'her', 'hiç', 'için', 'ile', 'ise', 'kez', 'ki', 'kim', 'mı', 'mu', 'mü', 'nasıl', 'ne', 'neden', 'nerde', 'nerede', 'nereye', 'niçin', 'niye', 'o', 'sanki', 'şey', 'siz', 'şu', 'tüm', 've', 'veya', 'ya', 'yani']\n"
     ]
    }
   ],
   "source": [
    "import string\n",
    "import re\n",
    "import nltk\n",
    "from nltk.corpus import stopwords\n",
    "\n",
    "punctuations = string.punctuation\n",
    "ineffective_words = stopwords.words('turkish')\n",
    "print(punctuations)\n",
    "print(ineffective_words)\n"
   ],
   "metadata": {
    "collapsed": false,
    "pycharm": {
     "name": "#%%\n"
    }
   }
  },
  {
   "cell_type": "code",
   "execution_count": 4,
   "outputs": [
    {
     "data": {
      "text/plain": "0        basınçlı yıkama makinesı, şampuan ve bu eldive...\n1        dünya edebiyatında fantastik,korku,cinsellik k...\n2        renkleri çok da canlı değil ve resim flu  ,kar...\n3        bende sipariş verdm umarım iyi çıkar.ve erkend...\n4        barlar ın üstünde sünger yok çok sert plastik ...\n                               ...                        \n30616    kokusuz olduğu için almıştım. 4-5 kere farklı ...\n30617    anneme hediye olarak almıştım ama çekiş gücü ç...\n30618    telefonu aldıktan 1 ay sonra bir tane de eşime...\n30619    şarj ömrü çook ama çok az. şarjdayken bile kul...\n30620    koku yapıyor ısıtmıyor ucuz diye almaya gerek ...\nName: review, Length: 30621, dtype: object"
     },
     "execution_count": 4,
     "metadata": {},
     "output_type": "execute_result"
    }
   ],
   "source": [
    "# Transforming lowercase to words.\n",
    "df['review'].str.lower()"
   ],
   "metadata": {
    "collapsed": false,
    "pycharm": {
     "name": "#%%\n"
    }
   }
  },
  {
   "cell_type": "markdown",
   "source": [
    "Shows deleting numbers and ineffective words"
   ],
   "metadata": {
    "collapsed": false
   }
  },
  {
   "cell_type": "code",
   "execution_count": 5,
   "outputs": [
    {
     "name": "stdout",
     "output_type": "stream",
     "text": [
      "basınçlı yıkama makinesı, şampuan ve bu eldiveni hepsiburadadan aldım. eldiven çok bol ve sürekli elden çıkıyor etrafındaki püsküller de çok az pek işe yaradığını söyleyemem. eski usul fırça kullanırsanız işiniz daha kolaylaşır.\n",
      "----------------------------------\n",
      "basınçlı yıkama makinesı, şampuan eldiveni hepsiburadadan aldım. eldiven bol sürekli elden çıkıyor etrafındaki püsküller pek işe yaradığını söyleyemem. eski usul fırça kullanırsanız işiniz kolaylaşır. \n",
      "******************************\n",
      "dünya edebiyatında fantastik,korku,cinsellik konulu romanların öne çıktığı bir zamanda konusu ve anlatımıyla farklı duyguları içinde barındıran samimi okunası bir kitap.sonunda size kazandırdıkları ve hatırlattıklarıyla övgüye değer bir hikaye .\n",
      "----------------------------------\n",
      "dünya edebiyatında fantastik,korku,cinsellik konulu romanların öne çıktığı bir zamanda konusu anlatımıyla farklı duyguları içinde barındıran samimi okunası bir kitap.sonunda size kazandırdıkları hatırlattıklarıyla övgüye değer bir hikaye . \n",
      "******************************\n",
      "renkleri çok da canlı değil ve resim flu  ,kargo 4 günde elime ulaştı.paketleme gayet başarılı\n",
      "----------------------------------\n",
      "renkleri canlı değil resim flu ,kargo günde elime ulaştı.paketleme gayet başarılı \n",
      "******************************\n",
      "bende sipariş verdm umarım iyi çıkar.ve erkenden gelir.memenun kalırsam önericem ama mutlaka yağını almayı unutmayın derim.ben hemen sipariş verdim birlikte..\n",
      "----------------------------------\n",
      "bende sipariş verdm umarım iyi çıkar.ve erkenden gelir.memenun kalırsam önericem mutlaka yağını almayı unutmayın derim.ben hemen sipariş verdim birlikte.. \n",
      "******************************\n",
      "barlar ın üstünde sünger yok çok sert plastik yumuşak değil o da eli yıpratıyor\n",
      "----------------------------------\n",
      "barlar ın üstünde sünger yok sert plastik yumuşak değil eli yıpratıyor \n",
      "******************************\n"
     ]
    }
   ],
   "source": [
    "for d in df['review'].head():\n",
    "\n",
    "    print(d+ '\\n----------------------------------')\n",
    "    # Removing ineffective words.\n",
    "    temp = ''\n",
    "    for word in d.split():\n",
    "        if word not in ineffective_words and not word.isnumeric():\n",
    "            temp += word + ' '\n",
    "    print(temp + '\\n******************************')\n"
   ],
   "metadata": {
    "collapsed": false,
    "pycharm": {
     "name": "#%%\n"
    }
   }
  },
  {
   "cell_type": "markdown",
   "source": [
    "Shows deleting punctuations"
   ],
   "metadata": {
    "collapsed": false
   }
  },
  {
   "cell_type": "code",
   "execution_count": 6,
   "outputs": [
    {
     "name": "stdout",
     "output_type": "stream",
     "text": [
      "basınçlı yıkama makinesı, şampuan ve bu eldiveni hepsiburadadan aldım. eldiven çok bol ve sürekli elden çıkıyor etrafındaki püsküller de çok az pek işe yaradığını söyleyemem. eski usul fırça kullanırsanız işiniz daha kolaylaşır.\n",
      "----------------------------\n",
      "basınçlı yıkama makinesı şampuan ve bu eldiveni hepsiburadadan aldım eldiven çok bol ve sürekli elden çıkıyor etrafındaki püsküller de çok az pek işe yaradığını söyleyemem eski usul fırça kullanırsanız işiniz daha kolaylaşır\n",
      "*************************\n",
      "dünya edebiyatında fantastik,korku,cinsellik konulu romanların öne çıktığı bir zamanda konusu ve anlatımıyla farklı duyguları içinde barındıran samimi okunası bir kitap.sonunda size kazandırdıkları ve hatırlattıklarıyla övgüye değer bir hikaye .\n",
      "----------------------------\n",
      "dünya edebiyatında fantastikkorkucinsellik konulu romanların öne çıktığı bir zamanda konusu ve anlatımıyla farklı duyguları içinde barındıran samimi okunası bir kitapsonunda size kazandırdıkları ve hatırlattıklarıyla övgüye değer bir hikaye \n",
      "*************************\n",
      "renkleri çok da canlı değil ve resim flu  ,kargo 4 günde elime ulaştı.paketleme gayet başarılı\n",
      "----------------------------\n",
      "renkleri çok da canlı değil ve resim flu  kargo 4 günde elime ulaştıpaketleme gayet başarılı\n",
      "*************************\n",
      "bende sipariş verdm umarım iyi çıkar.ve erkenden gelir.memenun kalırsam önericem ama mutlaka yağını almayı unutmayın derim.ben hemen sipariş verdim birlikte..\n",
      "----------------------------\n",
      "bende sipariş verdm umarım iyi çıkarve erkenden gelirmemenun kalırsam önericem ama mutlaka yağını almayı unutmayın derimben hemen sipariş verdim birlikte\n",
      "*************************\n",
      "barlar ın üstünde sünger yok çok sert plastik yumuşak değil o da eli yıpratıyor\n",
      "----------------------------\n",
      "barlar ın üstünde sünger yok çok sert plastik yumuşak değil o da eli yıpratıyor\n",
      "*************************\n"
     ]
    }
   ],
   "source": [
    "for d in df['review'].head():\n",
    "    print(d + '\\n----------------------------')\n",
    "    temp = ''\n",
    "    for word in d:\n",
    "        if word not in punctuations:\n",
    "            temp += word\n",
    "    print(temp + '\\n*************************')\n",
    "    d = temp"
   ],
   "metadata": {
    "collapsed": false,
    "pycharm": {
     "name": "#%%\n"
    }
   }
  },
  {
   "cell_type": "code",
   "execution_count": 7,
   "outputs": [
    {
     "name": "stderr",
     "output_type": "stream",
     "text": [
      "C:\\Users\\tyyp-\\AppData\\Local\\Temp/ipykernel_15016/1973213164.py:2: FutureWarning: The default value of regex will change from True to False in a future version.\n",
      "  df['review'] = df['review'].str.replace('[^\\w\\s]','')\n"
     ]
    },
    {
     "data": {
      "text/plain": "                                              review label\n0  basınçlı yıkama makinesı şampuan ve bu eldiven...   neg\n1  dünya edebiyatında fantastikkorkucinsellik kon...   pos\n2  renkleri çok da canlı değil ve resim flu  karg...   neg\n3  bende sipariş verdm umarım iyi çıkarve erkende...   neg\n4  barlar ın üstünde sünger yok çok sert plastik ...   neg",
      "text/html": "<div>\n<style scoped>\n    .dataframe tbody tr th:only-of-type {\n        vertical-align: middle;\n    }\n\n    .dataframe tbody tr th {\n        vertical-align: top;\n    }\n\n    .dataframe thead th {\n        text-align: right;\n    }\n</style>\n<table border=\"1\" class=\"dataframe\">\n  <thead>\n    <tr style=\"text-align: right;\">\n      <th></th>\n      <th>review</th>\n      <th>label</th>\n    </tr>\n  </thead>\n  <tbody>\n    <tr>\n      <th>0</th>\n      <td>basınçlı yıkama makinesı şampuan ve bu eldiven...</td>\n      <td>neg</td>\n    </tr>\n    <tr>\n      <th>1</th>\n      <td>dünya edebiyatında fantastikkorkucinsellik kon...</td>\n      <td>pos</td>\n    </tr>\n    <tr>\n      <th>2</th>\n      <td>renkleri çok da canlı değil ve resim flu  karg...</td>\n      <td>neg</td>\n    </tr>\n    <tr>\n      <th>3</th>\n      <td>bende sipariş verdm umarım iyi çıkarve erkende...</td>\n      <td>neg</td>\n    </tr>\n    <tr>\n      <th>4</th>\n      <td>barlar ın üstünde sünger yok çok sert plastik ...</td>\n      <td>neg</td>\n    </tr>\n  </tbody>\n</table>\n</div>"
     },
     "execution_count": 7,
     "metadata": {},
     "output_type": "execute_result"
    }
   ],
   "source": [
    "# Deleting Punctuations\n",
    "df['review'] = df['review'].str.replace('[^\\w\\s]','')\n",
    "#df['review'].apply(lambda x: [item for item in x if item not in ineffective_words])\n",
    "df.head(5)"
   ],
   "metadata": {
    "collapsed": false,
    "pycharm": {
     "name": "#%%\n"
    }
   }
  },
  {
   "cell_type": "code",
   "execution_count": 8,
   "outputs": [
    {
     "data": {
      "text/plain": "                                              review label\n0  basınçlı yıkama makinesı şampuan eldiveni heps...   neg\n1  dünya edebiyatında fantastikkorkucinsellik kon...   pos\n2  renkleri canlı değil resim flu kargo 4 günde e...   neg\n3  bende sipariş verdm umarım iyi çıkarve erkende...   neg\n4  barlar ın üstünde sünger yok sert plastik yumu...   neg",
      "text/html": "<div>\n<style scoped>\n    .dataframe tbody tr th:only-of-type {\n        vertical-align: middle;\n    }\n\n    .dataframe tbody tr th {\n        vertical-align: top;\n    }\n\n    .dataframe thead th {\n        text-align: right;\n    }\n</style>\n<table border=\"1\" class=\"dataframe\">\n  <thead>\n    <tr style=\"text-align: right;\">\n      <th></th>\n      <th>review</th>\n      <th>label</th>\n    </tr>\n  </thead>\n  <tbody>\n    <tr>\n      <th>0</th>\n      <td>basınçlı yıkama makinesı şampuan eldiveni heps...</td>\n      <td>neg</td>\n    </tr>\n    <tr>\n      <th>1</th>\n      <td>dünya edebiyatında fantastikkorkucinsellik kon...</td>\n      <td>pos</td>\n    </tr>\n    <tr>\n      <th>2</th>\n      <td>renkleri canlı değil resim flu kargo 4 günde e...</td>\n      <td>neg</td>\n    </tr>\n    <tr>\n      <th>3</th>\n      <td>bende sipariş verdm umarım iyi çıkarve erkende...</td>\n      <td>neg</td>\n    </tr>\n    <tr>\n      <th>4</th>\n      <td>barlar ın üstünde sünger yok sert plastik yumu...</td>\n      <td>neg</td>\n    </tr>\n  </tbody>\n</table>\n</div>"
     },
     "execution_count": 8,
     "metadata": {},
     "output_type": "execute_result"
    }
   ],
   "source": [
    "# Deleting stop words-ineffective words\n",
    "df['review'] = df['review'].apply(lambda x: ' '.join(x for x in x.split() if x not in ineffective_words))\n",
    "\n",
    "df.head(5)"
   ],
   "metadata": {
    "collapsed": false,
    "pycharm": {
     "name": "#%%\n"
    }
   }
  },
  {
   "cell_type": "markdown",
   "source": [
    "Save cleaned data"
   ],
   "metadata": {
    "collapsed": false
   }
  },
  {
   "cell_type": "code",
   "execution_count": 9,
   "outputs": [],
   "source": [
    "df.to_csv(r'./cleaned.csv', index=False)"
   ],
   "metadata": {
    "collapsed": false,
    "pycharm": {
     "name": "#%%\n"
    }
   }
  },
  {
   "cell_type": "markdown",
   "source": [
    "import cleaned data"
   ],
   "metadata": {
    "collapsed": false
   }
  },
  {
   "cell_type": "code",
   "execution_count": 11,
   "outputs": [
    {
     "data": {
      "text/plain": "                                              review label\n1  basınçlı yıkama makinesı şampuan eldiveni heps...   neg\n2  dünya edebiyatında fantastikkorkucinsellik kon...   pos\n3  renkleri canlı değil resim flu kargo 4 günde e...   neg\n4  bende sipariş verdm umarım iyi çıkarve erkende...   neg\n5  barlar ın üstünde sünger yok sert plastik yumu...   neg",
      "text/html": "<div>\n<style scoped>\n    .dataframe tbody tr th:only-of-type {\n        vertical-align: middle;\n    }\n\n    .dataframe tbody tr th {\n        vertical-align: top;\n    }\n\n    .dataframe thead th {\n        text-align: right;\n    }\n</style>\n<table border=\"1\" class=\"dataframe\">\n  <thead>\n    <tr style=\"text-align: right;\">\n      <th></th>\n      <th>review</th>\n      <th>label</th>\n    </tr>\n  </thead>\n  <tbody>\n    <tr>\n      <th>1</th>\n      <td>basınçlı yıkama makinesı şampuan eldiveni heps...</td>\n      <td>neg</td>\n    </tr>\n    <tr>\n      <th>2</th>\n      <td>dünya edebiyatında fantastikkorkucinsellik kon...</td>\n      <td>pos</td>\n    </tr>\n    <tr>\n      <th>3</th>\n      <td>renkleri canlı değil resim flu kargo 4 günde e...</td>\n      <td>neg</td>\n    </tr>\n    <tr>\n      <th>4</th>\n      <td>bende sipariş verdm umarım iyi çıkarve erkende...</td>\n      <td>neg</td>\n    </tr>\n    <tr>\n      <th>5</th>\n      <td>barlar ın üstünde sünger yok sert plastik yumu...</td>\n      <td>neg</td>\n    </tr>\n  </tbody>\n</table>\n</div>"
     },
     "execution_count": 11,
     "metadata": {},
     "output_type": "execute_result"
    }
   ],
   "source": [
    "import pandas as pd\n",
    "df = pd.read_csv('cleaned.csv', sep=\",\", names=['review', 'label'])\n",
    "# Deleting first row(header)\n",
    "df = df.iloc[1 : ]\n",
    "df.head(5)"
   ],
   "metadata": {
    "collapsed": false,
    "pycharm": {
     "name": "#%%\n"
    }
   }
  },
  {
   "cell_type": "markdown",
   "source": [
    "## Let's train model"
   ],
   "metadata": {
    "collapsed": false
   }
  },
  {
   "cell_type": "code",
   "execution_count": 12,
   "outputs": [
    {
     "name": "stdout",
     "output_type": "stream",
     "text": [
      "(24496,)\n",
      "(6125,)\n"
     ]
    }
   ],
   "source": [
    "from sklearn.model_selection import train_test_split\n",
    "# Partitioning test and training set\n",
    "X_train, X_test, y_train, y_test = train_test_split(df['review'].values.astype('U'),\n",
    "                                                    df['label'].values.astype('U'),\n",
    "                                                    test_size=0.2, random_state=42)\n",
    "print(X_train.shape)\n",
    "print(X_test.shape)"
   ],
   "metadata": {
    "collapsed": false,
    "pycharm": {
     "name": "#%%\n"
    }
   }
  },
  {
   "cell_type": "markdown",
   "source": [
    "Acquiring Count Vectorizer from the train set."
   ],
   "metadata": {
    "collapsed": false
   }
  },
  {
   "cell_type": "code",
   "execution_count": 13,
   "outputs": [
    {
     "data": {
      "text/plain": "(24496, 70747)"
     },
     "execution_count": 13,
     "metadata": {},
     "output_type": "execute_result"
    }
   ],
   "source": [
    "from sklearn.feature_extraction.text import CountVectorizer\n",
    "count_vectorizer = CountVectorizer()\n",
    "X_train_counts = count_vectorizer.fit_transform(X_train)\n",
    "X_train_counts.shape"
   ],
   "metadata": {
    "collapsed": false,
    "pycharm": {
     "name": "#%%\n"
    }
   }
  },
  {
   "cell_type": "markdown",
   "source": [
    "Unique and effective words are more important. Therefore, we need to use TF*IDF Vectorization"
   ],
   "metadata": {
    "collapsed": false
   }
  },
  {
   "cell_type": "code",
   "execution_count": 14,
   "outputs": [
    {
     "data": {
      "text/plain": "(24496, 70747)"
     },
     "execution_count": 14,
     "metadata": {},
     "output_type": "execute_result"
    }
   ],
   "source": [
    "from sklearn.feature_extraction.text import TfidfTransformer\n",
    "tfidf_transformer = TfidfTransformer()\n",
    "X_train_tfidf = tfidf_transformer.fit_transform(X_train_counts)\n",
    "X_train_tfidf.shape"
   ],
   "metadata": {
    "collapsed": false,
    "pycharm": {
     "name": "#%%\n"
    }
   }
  },
  {
   "cell_type": "markdown",
   "source": [
    "Train Naive Bayes classifier"
   ],
   "metadata": {
    "collapsed": false
   }
  },
  {
   "cell_type": "code",
   "execution_count": 15,
   "outputs": [],
   "source": [
    "from sklearn.naive_bayes import MultinomialNB\n",
    "classifier = MultinomialNB().fit(X_train_tfidf, y_train)\n",
    "X_test_counts = count_vectorizer.transform(X_test)\n",
    "X_test_tfidf = tfidf_transformer.transform(X_test_counts)"
   ],
   "metadata": {
    "collapsed": false,
    "pycharm": {
     "name": "#%%\n"
    }
   }
  },
  {
   "cell_type": "markdown",
   "source": [
    "Model is trained, it's time to test it."
   ],
   "metadata": {
    "collapsed": false
   }
  },
  {
   "cell_type": "code",
   "execution_count": 22,
   "outputs": [
    {
     "name": "stdout",
     "output_type": "stream",
     "text": [
      "'hızlı kargo teşekkürler ertesi gün ürün elimize ulaştı çalışanlar ilgili tavsiye ederim' => .pos\n",
      "'ürün kaliteli kullanışlı sadece kablo uzunluk seçeneği olsaydı güzel olurduhızlı kargo teşekkürler' => .pos\n",
      "'diorun parfümleri kalıcılıkla başarılılar parfüm yoğun hafif olmayan bir koku genç birinde fazla durur' => .neg\n",
      "'arkadaslar urunu cumartesi siparis verdim sali gunu elime ulasti gayet hizli geldi abimle ikimiz 2 saatte kurabildik hic bir eksik parca yoktu gorunumu gorseldeki gibiydi uretici firmaya hepsiburadacom a tesekkurler' => .pos\n",
      "'pillerle uğraşmaktan bıkanlar evde bulunması gereken bir ürün10 led an adınlatma 3 led üst adınlatma kısa sürede şarj süresi var' => .pos\n",
      "'doğuyu özellikle iranın tarihsel gelişimi başarılı tasvir edilmiş sıkılmadan okudum yapı kredi yayınlarını zaten beğenirim kitap diğerleriyle aynı çizgidetavsiye ederim' => .pos\n",
      "'kitaplara olan saygımdan dolayı zorlanarak ta olsa bitirdiğim kitap okumaktan soğutan bir kitap' => .pos\n",
      "'tavan boyama niyetiyle aldığım ancak tam anlamıyla hayal kırıklığına uğradığım üründür damlatmama olayını nedense ben beceremedim herhalde boya çekilen yerinden dışarıya boya attı tavana ruloyu sürmek bir miktar kuvvet uygulamanız gerekiyor malumunuz durumda rulonun metal borusu eğrilip ruloya sürtmeye başlıyor boyayı ruloya dengeli olarak aktaramıyorsunuz şırınga tarzı olan doldurma sistemi sizin isteğinizden bağımsız hareket edebiliyor yazılabilecek fazlaca olumsuzluğu olabilirdi ben 15 dakikadan sonra fırlatıp attığımdan başkaca tecrübe edinemedim duvarlarda iş yapar bilemiyorum' => .neg\n",
      "'kesinlikle güzel aşkı olabildiğince güzel bir biçimde ele almış okumaya başladıktan sonra elden bırakılamayacak bir kitap sonu anlatacak kadar hüzünlü' => .pos\n",
      "'ürün fiyatına göre kaliteli güzel çorabın boyu oldukça uzun bot birlikte giyildiğinde ayağı rahatsız etmeyecek tarzda gayet güzel' => .pos\n"
     ]
    }
   ],
   "source": [
    "# Testing with test set and classifier.\n",
    "y_pred = classifier.predict(X_test_tfidf)\n",
    "for review, sentiment in zip(X_test[:10], y_pred[:]):\n",
    "    print('%r => .%s' % (review, sentiment))"
   ],
   "metadata": {
    "collapsed": false,
    "pycharm": {
     "name": "#%%\n"
    }
   }
  },
  {
   "cell_type": "markdown",
   "source": [
    "Performance results?"
   ],
   "metadata": {
    "collapsed": false
   }
  },
  {
   "cell_type": "code",
   "execution_count": 24,
   "outputs": [
    {
     "name": "stdout",
     "output_type": "stream",
     "text": [
      "0.8651428571428571\n"
     ]
    }
   ],
   "source": [
    "from sklearn.metrics import accuracy_score\n",
    "print(accuracy_score(y_test, y_pred))"
   ],
   "metadata": {
    "collapsed": false,
    "pycharm": {
     "name": "#%%\n"
    }
   }
  },
  {
   "cell_type": "code",
   "execution_count": null,
   "outputs": [],
   "source": [],
   "metadata": {
    "collapsed": false,
    "pycharm": {
     "name": "#%%\n"
    }
   }
  }
 ],
 "metadata": {
  "kernelspec": {
   "display_name": "Python 3",
   "language": "python",
   "name": "python3"
  },
  "language_info": {
   "codemirror_mode": {
    "name": "ipython",
    "version": 2
   },
   "file_extension": ".py",
   "mimetype": "text/x-python",
   "name": "python",
   "nbconvert_exporter": "python",
   "pygments_lexer": "ipython2",
   "version": "2.7.6"
  }
 },
 "nbformat": 4,
 "nbformat_minor": 0
}